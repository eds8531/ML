{
 "cells": [
  {
   "cell_type": "code",
   "execution_count": 32,
   "metadata": {},
   "outputs": [],
   "source": [
    "from keras.datasets import mnist\n",
    "(train_images, train_labels), (test_images, test_labels) = mnist.load_data()"
   ]
  },
  {
   "cell_type": "code",
   "execution_count": 33,
   "metadata": {},
   "outputs": [
    {
     "data": {
      "text/plain": [
       "(60000, 28, 28)"
      ]
     },
     "execution_count": 33,
     "metadata": {},
     "output_type": "execute_result"
    }
   ],
   "source": [
    "train_images.shape\n"
   ]
  },
  {
   "cell_type": "code",
   "execution_count": 34,
   "metadata": {},
   "outputs": [
    {
     "data": {
      "text/plain": [
       "60000"
      ]
     },
     "execution_count": 34,
     "metadata": {},
     "output_type": "execute_result"
    }
   ],
   "source": [
    "len(train_labels)"
   ]
  },
  {
   "cell_type": "code",
   "execution_count": 35,
   "metadata": {},
   "outputs": [
    {
     "data": {
      "text/plain": [
       "array([5, 0, 4, ..., 5, 6, 8], dtype=uint8)"
      ]
     },
     "execution_count": 35,
     "metadata": {},
     "output_type": "execute_result"
    }
   ],
   "source": [
    "train_labels"
   ]
  },
  {
   "cell_type": "code",
   "execution_count": 36,
   "metadata": {},
   "outputs": [
    {
     "data": {
      "text/plain": [
       "(10000, 28, 28)"
      ]
     },
     "execution_count": 36,
     "metadata": {},
     "output_type": "execute_result"
    }
   ],
   "source": [
    "test_images.shape"
   ]
  },
  {
   "cell_type": "code",
   "execution_count": 37,
   "metadata": {},
   "outputs": [
    {
     "data": {
      "text/plain": [
       "10000"
      ]
     },
     "execution_count": 37,
     "metadata": {},
     "output_type": "execute_result"
    }
   ],
   "source": [
    "len(test_labels)"
   ]
  },
  {
   "cell_type": "code",
   "execution_count": 38,
   "metadata": {},
   "outputs": [
    {
     "data": {
      "text/plain": [
       "array([7, 2, 1, ..., 4, 5, 6], dtype=uint8)"
      ]
     },
     "execution_count": 38,
     "metadata": {},
     "output_type": "execute_result"
    }
   ],
   "source": [
    "test_labels"
   ]
  },
  {
   "cell_type": "code",
   "execution_count": 39,
   "metadata": {},
   "outputs": [],
   "source": [
    "from keras import models\n",
    "from keras import layers\n",
    "\n",
    "network = models.Sequential()\n",
    "network.add(layers.Dense(512, activation = 'relu', input_shape=(28*28,)))\n",
    "network.add(layers.Dense(16, activation = 'relu'))\n",
    "network.add(layers.Dense(16, activation = 'relu'))  \n",
    "network.add(layers.Dense(10, activation = 'softmax'))"
   ]
  },
  {
   "cell_type": "code",
   "execution_count": 40,
   "metadata": {},
   "outputs": [],
   "source": [
    "network.compile(optimizer = 'rmsprop', loss = 'categorical_crossentropy', metrics = ['accuracy'])\n",
    "\n"
   ]
  },
  {
   "cell_type": "code",
   "execution_count": 41,
   "metadata": {},
   "outputs": [],
   "source": [
    "train_images = train_images.reshape((60000, 28*28))\n",
    "train_images = train_images.astype('float32')/255\n",
    "\n",
    "test_images = test_images.reshape((10000, 28*28))\n",
    "test_images = test_images.astype('float32')/255"
   ]
  },
  {
   "cell_type": "code",
   "execution_count": 42,
   "metadata": {},
   "outputs": [],
   "source": [
    "from keras.utils import to_categorical\n",
    "\n",
    "train_labels = to_categorical(train_labels)\n",
    "test_labels = to_categorical(test_labels)"
   ]
  },
  {
   "cell_type": "code",
   "execution_count": 43,
   "metadata": {},
   "outputs": [],
   "source": [
    "x_val = train_images[:10000]\n",
    "partial_x_train = train_images[10000:]\n",
    "\n",
    "y_val = train_labels[:10000]\n",
    "partial_y_train = train_labels[10000:]"
   ]
  },
  {
   "cell_type": "code",
   "execution_count": 44,
   "metadata": {},
   "outputs": [
    {
     "name": "stdout",
     "output_type": "stream",
     "text": [
      "Epoch 1/15\n",
      "391/391 [==============================] - 1s 3ms/step - loss: 0.4291 - accuracy: 0.8718 - val_loss: 0.1878 - val_accuracy: 0.9442\n",
      "Epoch 2/15\n",
      "391/391 [==============================] - 1s 3ms/step - loss: 0.1510 - accuracy: 0.9552 - val_loss: 0.1584 - val_accuracy: 0.9564\n",
      "Epoch 3/15\n",
      "391/391 [==============================] - 1s 3ms/step - loss: 0.1002 - accuracy: 0.9702 - val_loss: 0.0983 - val_accuracy: 0.9706\n",
      "Epoch 4/15\n",
      "391/391 [==============================] - 1s 3ms/step - loss: 0.0736 - accuracy: 0.9778 - val_loss: 0.0951 - val_accuracy: 0.9717\n",
      "Epoch 5/15\n",
      "391/391 [==============================] - 1s 3ms/step - loss: 0.0560 - accuracy: 0.9832 - val_loss: 0.0855 - val_accuracy: 0.9751\n",
      "Epoch 6/15\n",
      "391/391 [==============================] - 1s 3ms/step - loss: 0.0424 - accuracy: 0.9868 - val_loss: 0.0877 - val_accuracy: 0.9753\n",
      "Epoch 7/15\n",
      "391/391 [==============================] - 1s 3ms/step - loss: 0.0333 - accuracy: 0.9898 - val_loss: 0.0860 - val_accuracy: 0.9749\n",
      "Epoch 8/15\n",
      "391/391 [==============================] - 1s 3ms/step - loss: 0.0254 - accuracy: 0.9919 - val_loss: 0.0883 - val_accuracy: 0.9775\n",
      "Epoch 9/15\n",
      "391/391 [==============================] - 1s 3ms/step - loss: 0.0195 - accuracy: 0.9938 - val_loss: 0.0917 - val_accuracy: 0.9772\n",
      "Epoch 10/15\n",
      "391/391 [==============================] - 1s 3ms/step - loss: 0.0164 - accuracy: 0.9953 - val_loss: 0.1028 - val_accuracy: 0.9752\n",
      "Epoch 11/15\n",
      "391/391 [==============================] - 1s 3ms/step - loss: 0.0123 - accuracy: 0.9964 - val_loss: 0.1259 - val_accuracy: 0.9736\n",
      "Epoch 12/15\n",
      "391/391 [==============================] - 1s 3ms/step - loss: 0.0108 - accuracy: 0.9964 - val_loss: 0.1019 - val_accuracy: 0.9776\n",
      "Epoch 13/15\n",
      "391/391 [==============================] - 1s 3ms/step - loss: 0.0090 - accuracy: 0.9975 - val_loss: 0.1161 - val_accuracy: 0.9766\n",
      "Epoch 14/15\n",
      "391/391 [==============================] - 1s 3ms/step - loss: 0.0072 - accuracy: 0.9980 - val_loss: 0.1123 - val_accuracy: 0.9793\n",
      "Epoch 15/15\n",
      "391/391 [==============================] - 1s 3ms/step - loss: 0.0060 - accuracy: 0.9980 - val_loss: 0.1133 - val_accuracy: 0.9779\n"
     ]
    }
   ],
   "source": [
    "history = network.fit(partial_x_train, partial_y_train, epochs = 15, batch_size = 128, validation_data = (x_val, y_val))"
   ]
  },
  {
   "cell_type": "code",
   "execution_count": 45,
   "metadata": {},
   "outputs": [
    {
     "name": "stdout",
     "output_type": "stream",
     "text": [
      "313/313 [==============================] - 0s 564us/step - loss: 0.1149 - accuracy: 0.9789\n",
      "test_acc: 0.9789000153541565\n"
     ]
    }
   ],
   "source": [
    "test_loss, test_acc = network.evaluate(test_images, test_labels)\n",
    "print('test_acc:', test_acc)"
   ]
  },
  {
   "cell_type": "code",
   "execution_count": 15,
   "metadata": {},
   "outputs": [
    {
     "data": {
      "text/plain": [
       "dict_keys(['loss', 'accuracy', 'val_loss', 'val_accuracy'])"
      ]
     },
     "execution_count": 15,
     "metadata": {},
     "output_type": "execute_result"
    }
   ],
   "source": [
    "history_dict = history.history\n",
    "history_dict.keys()"
   ]
  },
  {
   "cell_type": "code",
   "execution_count": 16,
   "metadata": {},
   "outputs": [
    {
     "data": {
      "image/png": "[encoded data removed]",
      "text/plain": [
       "<Figure size 432x288 with 1 Axes>"
      ]
     },
     "metadata": {
      "needs_background": "light"
     },
     "output_type": "display_data"
    }
   ],
   "source": [
    "import matplotlib.pyplot as plt\n",
    "\n",
    "history_dict = history.history\n",
    "loss_values = history_dict['loss']\n",
    "val_loss_values = history_dict['val_loss']\n",
    "\n",
    "epochs = range(1, len(history_dict['accuracy']) + 1)\n",
    "\n",
    "plt.plot(epochs, loss_values, 'bo', label = 'Training loss')\n",
    "plt.plot(epochs, val_loss_values, 'b', label = 'Validation loss')\n",
    "plt.title('Training and validation loss')\n",
    "plt.xlabel('Epochs')\n",
    "plt.ylabel('Loss')\n",
    "plt.legend()\n",
    "\n",
    "plt.show()"
   ]
  },
  {
   "cell_type": "code",
   "execution_count": 17,
   "metadata": {},
   "outputs": [
    {
     "data": {
      "image/png": "[encoded data removed]",
      "text/plain": [
       "<Figure size 432x288 with 1 Axes>"
      ]
     },
     "metadata": {
      "needs_background": "light"
     },
     "output_type": "display_data"
    }
   ],
   "source": [
    "plt.clf()\n",
    "acc_values = history_dict['accuracy']\n",
    "val_acc_values = history_dict['val_accuracy']\n",
    "\n",
    "plt.plot(epochs, acc_values, 'bo', label = 'Training acc')\n",
    "plt.plot(epochs, val_acc_values, 'b', label = 'Validation acc')\n",
    "plt.title('Training and validation accuracy')\n",
    "plt.xlabel('Epochs')\n",
    "plt.ylabel('Accuracy')\n",
    "plt.legend()\n",
    "\n",
    "plt.show()"
   ]
  },
  {
   "cell_type": "code",
   "execution_count": null,
   "metadata": {},
   "outputs": [],
   "source": []
  }
 ],
 "metadata": {
  "kernelspec": {
   "display_name": "Python 3",
   "language": "python",
   "name": "python3"
  },
  "language_info": {
   "codemirror_mode": {
    "name": "ipython",
    "version": 3
   },
   "file_extension": ".py",
   "mimetype": "text/x-python",
   "name": "python",
   "nbconvert_exporter": "python",
   "pygments_lexer": "ipython3",
   "version": "3.7.6"
  }
 },
 "nbformat": 4,
 "nbformat_minor": 4
}
